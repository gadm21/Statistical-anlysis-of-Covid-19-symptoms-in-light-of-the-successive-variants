{
  "nbformat": 4,
  "nbformat_minor": 0,
  "metadata": {
    "colab": {
      "name": "BigData_project_CalculatingFeatureImportances.ipynb",
      "provenance": []
    },
    "kernelspec": {
      "name": "python3",
      "display_name": "Python 3"
    },
    "language_info": {
      "name": "python"
    }
  },
  "cells": [
    {
      "cell_type": "code",
      "execution_count": null,
      "metadata": {
        "id": "tqi6KJ5l3oyG"
      },
      "outputs": [],
      "source": [
        ""
      ]
    },
    {
      "cell_type": "code",
      "source": [
        ""
      ],
      "metadata": {
        "id": "4PwOPqTqxt57"
      },
      "execution_count": null,
      "outputs": []
    },
    {
      "cell_type": "markdown",
      "metadata": {
        "id": "kIads--2s_sg"
      },
      "source": [
        "# Imports, Definitions & Functions"
      ]
    },
    {
      "cell_type": "code",
      "execution_count": null,
      "metadata": {
        "id": "_Y7uqW90tAuf"
      },
      "outputs": [],
      "source": [
        "\n",
        "import pandas as pd \n",
        "import numpy as np\n",
        "import matplotlib.pyplot as plt\n",
        "from matplotlib.colors import rgb2hex\n",
        "import seaborn as sns\n",
        "import os\n",
        "import sys\n",
        "\n",
        "\n",
        "from scipy.signal import find_peaks\n",
        "from scipy.signal import savgol_filter\n",
        "from sklearn.feature_selection import mutual_info_classif \n"
      ]
    },
    {
      "cell_type": "code",
      "source": [
        "\n",
        "def time2timestamp(days): \n",
        "  ''' \n",
        "  takes in a numpy array of representing calendar days of when each sample were collected. \n",
        "  return a numpy array of timestamp (integers) to be used an ordinal feature\n",
        "  ''' \n",
        "  counter = 0 \n",
        "  timestamp = np.zeros_like(days, dtype = int) \n",
        "  for i in range(1, len(timestamp)) : \n",
        "    if days[i] != days[i-1]: \n",
        "      counter += 1 \n",
        "    timestamp[i] = counter\n",
        "  return timestamp \n",
        "\n",
        "\n",
        "def get_periodic_stats(df):\n",
        "  '''\n",
        "  returns 2 Data Frame that has monthly and daily statistics about features \n",
        "  derived and added with the feature's name + '_monthly' or '_daily', respectively.\n",
        "  '''\n",
        "  month_groubed = df.groupby('month').sum()\n",
        "  day_groubed = df.groupby('day').sum()\n",
        "  monthly_new_features = month_groubed.transpose()[df.month].transpose().drop(columns = ['day'], axis = 1).astype(dtype = np.int32).rename(columns = lambda x : x + '_monthly')\n",
        "  daily_new_features = day_groubed.transpose()[df.day].transpose().drop(columns = ['month'], axis = 1).astype(dtype = np.int32).rename(columns = lambda x : x + '_daily')\n",
        "  return monthly_new_features.reset_index(drop = True), daily_new_features.reset_index(drop = True)\n",
        "\n",
        "\n",
        "def time2timestamp(df):\n",
        "  '''\n",
        "  drops 'test_date' and creates 'month' and 'day' as two separated features\n",
        "  to separate statstics related per month vs per day. \n",
        "  '''\n",
        "  df = df.copy() \n",
        "\n",
        "  df['test_date'] = pd.to_datetime(df.test_date, infer_datetime_format = True) \n",
        "  df['month'] = df.test_date.dt.month \n",
        "  df['day'] = df.test_date.dt.day\n",
        "  df.drop(columns = ['test_date'], inplace = True) \n",
        "  return df \n",
        "\n",
        "def binarize_features(df):\n",
        "  df = df.copy() \n",
        "\n",
        "  results = df.corona_result.values\n",
        "  age_above_60 = df.age_60_and_above.values \n",
        "  gender = df.gender.values \n",
        "\n",
        "  binary_age = [1 if age_above_60[i] == 'Yes' else 0 for i in range(len(df)) ]\n",
        "  binary_results = [1 if results[i] == 'positive' else 0 for i in range(len(df)) ]\n",
        "  binary_gender = [1 if gender[i] == 'male' else 0 for i in range(len(df)) ]\n",
        "  df['corona_result'] = np.array(binary_results, dtype = np.int32)  \n",
        "  df['age_60_and_above'] = np.array(binary_age, dtype = np.int32)\n",
        "  df['gender'] = np.array(binary_gender, dtype = np.int32) \n",
        "\n",
        "  df = df.assign(test_indication = lambda x : x.test_indication == 'Contact with confirmed')\n",
        "  # may also drop 'gender', 'age_60_and_above' because they have missing values, \n",
        "  # but will keep them for now since they will be part of the anlaysis\n",
        "  # df.drop(columns = ['test_indication'], axis = 1, inplace = True) \n",
        "  return df \n"
      ],
      "metadata": {
        "id": "-IKrvdP_dxfu"
      },
      "execution_count": null,
      "outputs": []
    },
    {
      "cell_type": "code",
      "execution_count": null,
      "metadata": {
        "id": "2Du6AHwxCpez"
      },
      "outputs": [],
      "source": [
        "%%capture \n",
        "\n",
        "def download_data():\n",
        "  # download the data file \n",
        "  !wget --load-cookies /tmp/cookies.txt \"https://docs.google.com/uc?export=download&confirm=$(wget --quiet --save-cookies /tmp/cookies.txt --keep-session-cookies \\\n",
        "    --no-check-certificate 'https://docs.google.com/uc?export=download&id=1u78Z2-WhhyHzoHf6OtBnxWETnjBw7pg8' \\\n",
        "    -O- | sed -rn 's/.*confirm=([0-9A-Za-z_]+).*/\\1\\n/p')&id=1u78Z2-WhhyHzoHf6OtBnxWETnjBw7pg8\" -O corona_tested_individuals_ver_0083.english.csv && rm -rf /tmp/cookies.txt\n",
        "  !wget --load-cookies /tmp/cookies.txt \"https://docs.google.com/uc?export=download&confirm=$(wget --quiet --save-cookies /tmp/cookies.txt --keep-session-cookies \\\n",
        "    --no-check-certificate 'https://docs.google.com/uc?export=download&id=1u8R1viz0ty6zR2CuVghRPQrv5XwDNOpk' \\\n",
        "    -O- | sed -rn 's/.*confirm=([0-9A-Za-z_]+).*/\\1\\n/p')&id=1u8R1viz0ty6zR2CuVghRPQrv5XwDNOpk\" -O corona_tested_individuals_ver_006.english.csv && rm -rf /tmp/cookies.txt\n",
        "\n",
        "\n",
        "# download the data file\n",
        "download_data()"
      ]
    },
    {
      "cell_type": "markdown",
      "source": [
        "# Not play 1"
      ],
      "metadata": {
        "id": "Rb66kJkn6r3v"
      }
    },
    {
      "cell_type": "code",
      "source": [
        "df = pd.read_csv('corona_tested_individuals_ver_0083.english.csv')\n",
        "df = time2timestamp(df) \n",
        "df = binarize_features(df) \n",
        "m_df, d_df = get_periodic_stats(df) \n",
        "new_df = pd.concat([df, m_df, d_df], axis =1) "
      ],
      "metadata": {
        "colab": {
          "base_uri": "https://localhost:8080/"
        },
        "id": "WmTLTFLt6t_V",
        "outputId": "c0341831-1cde-411c-b013-076a3a78f079"
      },
      "execution_count": null,
      "outputs": [
        {
          "output_type": "stream",
          "name": "stderr",
          "text": [
            "/usr/local/lib/python3.7/dist-packages/IPython/core/interactiveshell.py:2882: DtypeWarning: Columns (7) have mixed types.Specify dtype option on import or set low_memory=False.\n",
            "  exec(code_obj, self.user_global_ns, self.user_ns)\n"
          ]
        }
      ]
    },
    {
      "cell_type": "code",
      "source": [
        "y_features = 'corona_result'\n",
        "x_features = [col for col in new_df.columns if col != y_features]\n",
        "x, y = new_df[x_features].to_numpy(dtype = np.float32), new_df[y_features].to_numpy(dtype = np.float32)\n",
        "x.shape, y.shape, x.dtype, y.dtype"
      ],
      "metadata": {
        "colab": {
          "base_uri": "https://localhost:8080/"
        },
        "id": "UaGdwn5BBCMb",
        "outputId": "6880f642-19aa-4d03-fac9-1508d044f866"
      },
      "execution_count": null,
      "outputs": [
        {
          "output_type": "execute_result",
          "data": {
            "text/plain": [
              "((2742596, 28), (2742596,), dtype('float32'), dtype('float32'))"
            ]
          },
          "metadata": {},
          "execution_count": 5
        }
      ]
    },
    {
      "cell_type": "code",
      "source": [
        "features = x_features\n",
        "contributions = mutual_info_classif(x, y)"
      ],
      "metadata": {
        "id": "_OgDWYtg-RBB"
      },
      "execution_count": null,
      "outputs": []
    },
    {
      "cell_type": "code",
      "source": [
        "features, contributions = zip(*(sorted(zip(contributions.tolist(), features))))"
      ],
      "metadata": {
        "id": "N6uP4_PoZJPd"
      },
      "execution_count": null,
      "outputs": []
    },
    {
      "cell_type": "code",
      "source": [
        "np.sum(features)"
      ],
      "metadata": {
        "colab": {
          "base_uri": "https://localhost:8080/"
        },
        "id": "_of0OBhEgsaC",
        "outputId": "d3b18d8f-bbd7-4c9a-fd14-e00a85c5b659"
      },
      "execution_count": null,
      "outputs": [
        {
          "output_type": "execute_result",
          "data": {
            "text/plain": [
              "1.4701186261447639"
            ]
          },
          "metadata": {},
          "execution_count": 24
        }
      ]
    },
    {
      "cell_type": "code",
      "source": [
        "\n",
        "import numpy as np\n",
        "import matplotlib.pyplot as plt\n",
        " \n",
        "  \n",
        "fig = plt.figure(figsize = (15, 11))\n",
        "\n",
        "# creating the bar plot\n",
        "plt.barh(contributions, features, color ='maroon')\n",
        "\n",
        "plt.xticks(rotation=90)\n",
        "plt.xlabel(\"Courses offered\")\n",
        "plt.ylabel(\"Importance\")\n",
        "plt.title(\"Features relative importance\")\n",
        "plt.show()"
      ],
      "metadata": {
        "colab": {
          "base_uri": "https://localhost:8080/",
          "height": 625
        },
        "id": "Evhzb_k6EDLD",
        "outputId": "bce8e85a-df03-43bf-dd9a-6ef6113aa801"
      },
      "execution_count": null,
      "outputs": [
        {
          "output_type": "display_data",
          "data": {
            "text/plain": [
              "<Figure size 1080x792 with 1 Axes>"
            ],
            "image/png": "[encoded data removed]"
          },
          "metadata": {
            "needs_background": "light"
          }
        }
      ]
    }
  ]
}
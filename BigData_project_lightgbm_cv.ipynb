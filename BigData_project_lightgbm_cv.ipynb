{
  "nbformat": 4,
  "nbformat_minor": 0,
  "metadata": {
    "colab": {
      "name": "BigData_project_lightgbm_cv.ipynb",
      "provenance": []
    },
    "kernelspec": {
      "name": "python3",
      "display_name": "Python 3"
    },
    "language_info": {
      "name": "python"
    }
  },
  "cells": [
    {
      "cell_type": "code",
      "execution_count": null,
      "metadata": {
        "id": "NbbxiOOfpoga"
      },
      "outputs": [],
      "source": [
        ""
      ]
    },
    {
      "cell_type": "markdown",
      "source": [
        "# Prepare"
      ],
      "metadata": {
        "id": "n3wtEBeXptyG"
      }
    },
    {
      "cell_type": "code",
      "source": [
        "\n",
        "import pandas as pd \n",
        "import numpy as np\n",
        "import matplotlib.pyplot as plt\n",
        "from matplotlib.colors import rgb2hex\n",
        "import seaborn as sns\n",
        "import os\n",
        "import sys\n",
        "\n",
        "\n",
        "from scipy.signal import find_peaks\n",
        "from scipy.signal import savgol_filter\n"
      ],
      "metadata": {
        "id": "yDCTmORTpufq"
      },
      "execution_count": null,
      "outputs": []
    },
    {
      "cell_type": "code",
      "source": [
        "%%capture \n",
        "\n",
        "def download_data():\n",
        "  # download the data file \n",
        "  !wget --load-cookies /tmp/cookies.txt \"https://docs.google.com/uc?export=download&confirm=$(wget --quiet --save-cookies /tmp/cookies.txt --keep-session-cookies \\\n",
        "    --no-check-certificate 'https://docs.google.com/uc?export=download&id=1u78Z2-WhhyHzoHf6OtBnxWETnjBw7pg8' \\\n",
        "    -O- | sed -rn 's/.*confirm=([0-9A-Za-z_]+).*/\\1\\n/p')&id=1u78Z2-WhhyHzoHf6OtBnxWETnjBw7pg8\" -O corona_tested_individuals_ver_0083.english.csv && rm -rf /tmp/cookies.txt\n",
        "  !wget --load-cookies /tmp/cookies.txt \"https://docs.google.com/uc?export=download&confirm=$(wget --quiet --save-cookies /tmp/cookies.txt --keep-session-cookies \\\n",
        "    --no-check-certificate 'https://docs.google.com/uc?export=download&id=1u8R1viz0ty6zR2CuVghRPQrv5XwDNOpk' \\\n",
        "    -O- | sed -rn 's/.*confirm=([0-9A-Za-z_]+).*/\\1\\n/p')&id=1u8R1viz0ty6zR2CuVghRPQrv5XwDNOpk\" -O corona_tested_individuals_ver_006.english.csv && rm -rf /tmp/cookies.txt\n",
        "\n",
        "\n",
        "# download the data file\n",
        "download_data()"
      ],
      "metadata": {
        "id": "QeA7c03Bp2b4"
      },
      "execution_count": null,
      "outputs": []
    },
    {
      "cell_type": "code",
      "source": [
        "\n",
        "df = pd.read_csv('corona_tested_individuals_ver_0083.english.csv')\n",
        "\n",
        "df = df.assign(contact_with_confirmed = lambda x : x.test_indication == 'Contact with confirmed')\n",
        "df = df.drop(columns = ['test_indication'], axis = 0) \n",
        "\n",
        "df['test_date'] = pd.to_datetime(df.test_date, infer_datetime_format = True) \n",
        "df['month'] = df.test_date.dt.month \n",
        "df['day'] = df.test_date.dt.day\n",
        "df.drop(columns = ['test_date'], inplace = True) \n",
        "\n",
        "results = df.corona_result.values\n",
        "age_above_60 = df.age_60_and_above.values \n",
        "gender = df.gender.values \n",
        "\n",
        "binary_age = [1 if age_above_60[i] == 'Yes' else 0 for i in range(len(df)) ]\n",
        "binary_results = [1 if results[i] == 'positive' else 0 for i in range(len(df)) ]\n",
        "binary_gender = [1 if gender[i] == 'male' else 0 for i in range(len(df)) ]\n",
        "df['corona_result'] = np.array(binary_results, dtype = np.int32)  \n",
        "df['age_60_and_above'] = np.array(binary_age, dtype = np.int32)\n",
        "df['gender'] = np.array(binary_gender, dtype = np.int32) \n",
        "\n",
        "df = df.astype(np.float32) "
      ],
      "metadata": {
        "colab": {
          "base_uri": "https://localhost:8080/"
        },
        "id": "b16IJEGhp_uA",
        "outputId": "659f943f-0acd-49c4-c901-9ea6ef5fc991"
      },
      "execution_count": null,
      "outputs": [
        {
          "output_type": "stream",
          "name": "stderr",
          "text": [
            "/usr/local/lib/python3.7/dist-packages/IPython/core/interactiveshell.py:2882: DtypeWarning: Columns (7) have mixed types.Specify dtype option on import or set low_memory=False.\n",
            "  exec(code_obj, self.user_global_ns, self.user_ns)\n"
          ]
        }
      ]
    },
    {
      "cell_type": "code",
      "source": [
        "# Columns with missing values\n",
        "missing_cols = df.columns[df.isnull().any()]\n",
        "# Rows with missing values\n",
        "missing_rows = df.index[df.isnull().any(axis=1)]\n",
        "\n",
        "#if no missing values\n",
        "if len(missing_rows) == 0 and len(missing_cols) == 0: \n",
        "    print('No missing values')\n",
        "# if there are missing values\n",
        "else: \n",
        "    print('Number of rows that have missing values', len(missing_rows))\n",
        "    print('Number of columns that have missing values', len(missing_cols))\n",
        "\n",
        "for col in df.columns : \n",
        "  print(col) \n",
        "  print(df[col].unique())"
      ],
      "metadata": {
        "colab": {
          "base_uri": "https://localhost:8080/"
        },
        "id": "_Ibk0hH9t81h",
        "outputId": "0bd528cb-f3a9-4fc4-8b78-d58b22c28b75"
      },
      "execution_count": null,
      "outputs": [
        {
          "output_type": "stream",
          "name": "stdout",
          "text": [
            "No missing values\n",
            "cough\n",
            "[0. 1.]\n",
            "fever\n",
            "[0. 1.]\n",
            "sore_throat\n",
            "[0. 1.]\n",
            "shortness_of_breath\n",
            "[0. 1.]\n",
            "head_ache\n",
            "[0. 1.]\n",
            "corona_result\n",
            "[0. 1.]\n",
            "age_60_and_above\n",
            "[0. 1.]\n",
            "gender\n",
            "[1. 0.]\n",
            "contact_with_confirmed\n",
            "[0. 1.]\n",
            "month\n",
            "[11. 10.  9.  8.  7.  6.  5.  4.  3.]\n",
            "day\n",
            "[12. 11. 10.  9.  8.  7.  6.  5.  4.  3.  2.  1. 31. 30. 29. 28. 27. 26.\n",
            " 25. 24. 23. 22. 21. 20. 19. 18. 17. 16. 15. 14. 13.]\n"
          ]
        }
      ]
    },
    {
      "cell_type": "code",
      "source": [
        "y_features = 'corona_result'\n",
        "x_features = [col for col in df.columns if col != y_features]\n",
        "x_features.remove(y_features) \n",
        "x, y = df[x_features].values, df[y_features].values\n",
        "x.shape, y.shape"
      ],
      "metadata": {
        "colab": {
          "base_uri": "https://localhost:8080/"
        },
        "id": "lFyyX-lgqsz1",
        "outputId": "fa1e0ce1-8bdb-49f5-ad33-7f67f5e70605"
      },
      "execution_count": null,
      "outputs": [
        {
          "output_type": "execute_result",
          "data": {
            "text/plain": [
              "((2742596, 10), (2742596,))"
            ]
          },
          "metadata": {},
          "execution_count": 32
        }
      ]
    },
    {
      "cell_type": "markdown",
      "source": [
        "# Cross validation"
      ],
      "metadata": {
        "id": "3Bm7EyZJqvRw"
      }
    },
    {
      "cell_type": "code",
      "source": [
        "n_folds = 5\n",
        "params = {\n",
        "    'task':'train',\n",
        "    'boosting_type': 'gbdt',\n",
        "    'objective': 'binary',\n",
        "    'metric': {'binary_logloss', 'auc'},\n",
        "    'num_leaves': 31,\n",
        "    'learning_rate': 0.05,\n",
        "    'feature_fraction': 0.9,\n",
        "    'bagging_fraction': 0.8,\n",
        "    'bagging_freq': 5,\n",
        "    'verbose': 1\n",
        "}\n",
        "skfold = StratifiedKFold(n_splits = n_folds) \n",
        "scores = [] \n",
        "for fold_idx, (train_idc, val_idc) in enumerate(skfold.split(x, y)) : \n",
        "  print(\" Fold {} / {}\".format(fold_idx, n_folds)) \n",
        "  train_ds = lgb.Dataset(x[train_idc, :], y[train_idc]) \n",
        "  val_ds = lgb.Dataset(x[val_idc, :], y[val_idc]) \n",
        "  res = {} \n",
        "  gbm = lgb.train(params, train_ds, num_boost_round = 2500, \n",
        "                valid_sets = [val_ds], valid_names = ['valid'], \n",
        "                evals_result = res, verbose_eval = 100) \n",
        "  scores.append(res['valid']['auc'][-1])\n",
        "print(\"Average validation score: \", np.mean(scores)) "
      ],
      "metadata": {
        "colab": {
          "base_uri": "https://localhost:8080/"
        },
        "id": "xPXO18g2qxC7",
        "outputId": "ee10f2ff-ba83-4c92-cd80-f96d1ec66ce0"
      },
      "execution_count": null,
      "outputs": [
        {
          "output_type": "stream",
          "name": "stdout",
          "text": [
            " Fold 0 / 5\n",
            "[100]\tvalid's auc: 0.813982\tvalid's binary_logloss: 0.402241\n",
            "[200]\tvalid's auc: 0.813589\tvalid's binary_logloss: 0.647809\n",
            "[300]\tvalid's auc: 0.812547\tvalid's binary_logloss: 0.698081\n",
            "[400]\tvalid's auc: 0.813648\tvalid's binary_logloss: 0.712458\n",
            "[500]\tvalid's auc: 0.814263\tvalid's binary_logloss: 0.723128\n",
            "[600]\tvalid's auc: 0.813308\tvalid's binary_logloss: 0.737626\n",
            "[700]\tvalid's auc: 0.813526\tvalid's binary_logloss: 0.74109\n",
            "[800]\tvalid's auc: 0.813587\tvalid's binary_logloss: 0.741223\n",
            "[900]\tvalid's auc: 0.813849\tvalid's binary_logloss: 0.740939\n",
            "[1000]\tvalid's auc: 0.813522\tvalid's binary_logloss: 0.748149\n",
            "[1100]\tvalid's auc: 0.813576\tvalid's binary_logloss: 0.747807\n",
            "[1200]\tvalid's auc: 0.813453\tvalid's binary_logloss: 0.751368\n",
            "[1300]\tvalid's auc: 0.813549\tvalid's binary_logloss: 0.751304\n",
            "[1400]\tvalid's auc: 0.813532\tvalid's binary_logloss: 0.754826\n",
            "[1500]\tvalid's auc: 0.813569\tvalid's binary_logloss: 0.754823\n",
            "[1600]\tvalid's auc: 0.813676\tvalid's binary_logloss: 0.754691\n",
            "[1700]\tvalid's auc: 0.813642\tvalid's binary_logloss: 0.754778\n",
            "[1800]\tvalid's auc: 0.813825\tvalid's binary_logloss: 0.754447\n",
            "[1900]\tvalid's auc: 0.813694\tvalid's binary_logloss: 0.758027\n",
            "[2000]\tvalid's auc: 0.81226\tvalid's binary_logloss: 0.757914\n",
            "[2100]\tvalid's auc: 0.813228\tvalid's binary_logloss: 0.757999\n",
            "[2200]\tvalid's auc: 0.812584\tvalid's binary_logloss: 0.757972\n",
            "[2300]\tvalid's auc: 0.813804\tvalid's binary_logloss: 0.7578\n",
            "[2400]\tvalid's auc: 0.813105\tvalid's binary_logloss: 0.757687\n",
            "[2500]\tvalid's auc: 0.813368\tvalid's binary_logloss: 0.757705\n",
            " Fold 1 / 5\n",
            "[100]\tvalid's auc: 0.38162\tvalid's binary_logloss: 2.64944\n",
            "[200]\tvalid's auc: 0.417463\tvalid's binary_logloss: 4.01137\n",
            "[300]\tvalid's auc: 0.483009\tvalid's binary_logloss: 4.58977\n",
            "[400]\tvalid's auc: 0.473069\tvalid's binary_logloss: 4.86745\n",
            "[500]\tvalid's auc: 0.498252\tvalid's binary_logloss: 5.10005\n",
            "[600]\tvalid's auc: 0.497032\tvalid's binary_logloss: 5.34841\n",
            "[700]\tvalid's auc: 0.517594\tvalid's binary_logloss: 5.64104\n",
            "[800]\tvalid's auc: 0.514542\tvalid's binary_logloss: 5.65558\n",
            "[900]\tvalid's auc: 0.495017\tvalid's binary_logloss: 5.95083\n",
            "[1000]\tvalid's auc: 0.494686\tvalid's binary_logloss: 6.00387\n",
            "[1100]\tvalid's auc: 0.489931\tvalid's binary_logloss: 6.03362\n",
            "[1200]\tvalid's auc: 0.475415\tvalid's binary_logloss: 6.06601\n",
            "[1300]\tvalid's auc: 0.459987\tvalid's binary_logloss: 6.2417\n",
            "[1400]\tvalid's auc: 0.462716\tvalid's binary_logloss: 6.25453\n",
            "[1500]\tvalid's auc: 0.453116\tvalid's binary_logloss: 6.51055\n",
            "[1600]\tvalid's auc: 0.445014\tvalid's binary_logloss: 6.54734\n",
            "[1700]\tvalid's auc: 0.431891\tvalid's binary_logloss: 6.57637\n",
            "[1800]\tvalid's auc: 0.401391\tvalid's binary_logloss: 6.66995\n",
            "[1900]\tvalid's auc: 0.388957\tvalid's binary_logloss: 6.75603\n",
            "[2000]\tvalid's auc: 0.422806\tvalid's binary_logloss: 7.02847\n",
            "[2100]\tvalid's auc: 0.415081\tvalid's binary_logloss: 7.09356\n",
            "[2200]\tvalid's auc: 0.413283\tvalid's binary_logloss: 7.16286\n",
            "[2300]\tvalid's auc: 0.400878\tvalid's binary_logloss: 7.31074\n",
            "[2400]\tvalid's auc: 0.396927\tvalid's binary_logloss: 7.32792\n",
            "[2500]\tvalid's auc: 0.395185\tvalid's binary_logloss: 7.35876\n",
            " Fold 2 / 5\n",
            "[100]\tvalid's auc: 0.172589\tvalid's binary_logloss: 2.70572\n",
            "[200]\tvalid's auc: 0.179149\tvalid's binary_logloss: 3.83463\n",
            "[300]\tvalid's auc: 0.179008\tvalid's binary_logloss: 4.56372\n",
            "[400]\tvalid's auc: 0.178356\tvalid's binary_logloss: 4.82919\n",
            "[500]\tvalid's auc: 0.177321\tvalid's binary_logloss: 5.18914\n",
            "[600]\tvalid's auc: 0.179528\tvalid's binary_logloss: 5.47037\n",
            "[700]\tvalid's auc: 0.180565\tvalid's binary_logloss: 5.76014\n",
            "[800]\tvalid's auc: 0.17999\tvalid's binary_logloss: 6.12304\n",
            "[900]\tvalid's auc: 0.178057\tvalid's binary_logloss: 6.32074\n",
            "[1000]\tvalid's auc: 0.177978\tvalid's binary_logloss: 6.46324\n",
            "[1100]\tvalid's auc: 0.178764\tvalid's binary_logloss: 6.56483\n",
            "[1200]\tvalid's auc: 0.177985\tvalid's binary_logloss: 6.79037\n",
            "[1300]\tvalid's auc: 0.178723\tvalid's binary_logloss: 7.02782\n",
            "[1400]\tvalid's auc: 0.177995\tvalid's binary_logloss: 7.32921\n",
            "[1500]\tvalid's auc: 0.178234\tvalid's binary_logloss: 7.42162\n",
            "[1600]\tvalid's auc: 0.177911\tvalid's binary_logloss: 7.5049\n",
            "[1700]\tvalid's auc: 0.177606\tvalid's binary_logloss: 7.57654\n",
            "[1800]\tvalid's auc: 0.177645\tvalid's binary_logloss: 7.60845\n",
            "[1900]\tvalid's auc: 0.177631\tvalid's binary_logloss: 7.68839\n",
            "[2000]\tvalid's auc: 0.177405\tvalid's binary_logloss: 7.7141\n",
            "[2100]\tvalid's auc: 0.177374\tvalid's binary_logloss: 7.94197\n",
            "[2200]\tvalid's auc: 0.17752\tvalid's binary_logloss: 7.96036\n",
            "[2300]\tvalid's auc: 0.178995\tvalid's binary_logloss: 8.06177\n",
            "[2400]\tvalid's auc: 0.178644\tvalid's binary_logloss: 8.12554\n",
            "[2500]\tvalid's auc: 0.178359\tvalid's binary_logloss: 8.15687\n",
            " Fold 3 / 5\n",
            "[100]\tvalid's auc: 0.0368519\tvalid's binary_logloss: 2.59537\n",
            "[200]\tvalid's auc: 0.0361206\tvalid's binary_logloss: 4.17603\n",
            "[300]\tvalid's auc: 0.0322943\tvalid's binary_logloss: 4.6901\n",
            "[400]\tvalid's auc: 0.028664\tvalid's binary_logloss: 5.17293\n",
            "[500]\tvalid's auc: 0.0275146\tvalid's binary_logloss: 5.41607\n",
            "[600]\tvalid's auc: 0.0266811\tvalid's binary_logloss: 5.71598\n",
            "[700]\tvalid's auc: 0.0264344\tvalid's binary_logloss: 6.05512\n",
            "[800]\tvalid's auc: 0.0261887\tvalid's binary_logloss: 6.5033\n",
            "[900]\tvalid's auc: 0.0260253\tvalid's binary_logloss: 6.63404\n",
            "[1000]\tvalid's auc: 0.0259209\tvalid's binary_logloss: 6.73424\n",
            "[1100]\tvalid's auc: 0.0262692\tvalid's binary_logloss: 7.11679\n",
            "[1200]\tvalid's auc: 0.0259175\tvalid's binary_logloss: 7.37207\n",
            "[1300]\tvalid's auc: 0.0256665\tvalid's binary_logloss: 7.51889\n",
            "[1400]\tvalid's auc: 0.0256046\tvalid's binary_logloss: 7.59196\n",
            "[1500]\tvalid's auc: 0.0257439\tvalid's binary_logloss: 7.78279\n",
            "[1600]\tvalid's auc: 0.0257984\tvalid's binary_logloss: 7.92084\n",
            "[1700]\tvalid's auc: 0.0257923\tvalid's binary_logloss: 7.91792\n",
            "[1800]\tvalid's auc: 0.0258289\tvalid's binary_logloss: 7.99948\n",
            "[1900]\tvalid's auc: 0.0258499\tvalid's binary_logloss: 8.1147\n",
            "[2000]\tvalid's auc: 0.025819\tvalid's binary_logloss: 8.16849\n",
            "[2100]\tvalid's auc: 0.0257354\tvalid's binary_logloss: 8.39493\n",
            "[2200]\tvalid's auc: 0.0257154\tvalid's binary_logloss: 8.43614\n",
            "[2300]\tvalid's auc: 0.0256046\tvalid's binary_logloss: 8.52873\n",
            "[2400]\tvalid's auc: 0.025598\tvalid's binary_logloss: 8.54785\n",
            "[2500]\tvalid's auc: 0.0254789\tvalid's binary_logloss: 8.5743\n",
            " Fold 4 / 5\n",
            "[100]\tvalid's auc: 0.915956\tvalid's binary_logloss: 0.443428\n",
            "[200]\tvalid's auc: 0.932644\tvalid's binary_logloss: 0.711124\n",
            "[300]\tvalid's auc: 0.878032\tvalid's binary_logloss: 0.808988\n",
            "[400]\tvalid's auc: 0.855932\tvalid's binary_logloss: 0.895007\n",
            "[500]\tvalid's auc: 0.84209\tvalid's binary_logloss: 0.928242\n",
            "[600]\tvalid's auc: 0.828742\tvalid's binary_logloss: 0.978317\n",
            "[700]\tvalid's auc: 0.822533\tvalid's binary_logloss: 1.0127\n",
            "[800]\tvalid's auc: 0.819626\tvalid's binary_logloss: 1.02328\n",
            "[900]\tvalid's auc: 0.817285\tvalid's binary_logloss: 1.03455\n",
            "[1000]\tvalid's auc: 0.818918\tvalid's binary_logloss: 1.04819\n",
            "[1100]\tvalid's auc: 0.814888\tvalid's binary_logloss: 1.06413\n",
            "[1200]\tvalid's auc: 0.814604\tvalid's binary_logloss: 1.06441\n",
            "[1300]\tvalid's auc: 0.814024\tvalid's binary_logloss: 1.06425\n",
            "[1400]\tvalid's auc: 0.811504\tvalid's binary_logloss: 1.06979\n",
            "[1500]\tvalid's auc: 0.810424\tvalid's binary_logloss: 1.07212\n",
            "[1600]\tvalid's auc: 0.810057\tvalid's binary_logloss: 1.0715\n",
            "[1700]\tvalid's auc: 0.809888\tvalid's binary_logloss: 1.07169\n",
            "[1800]\tvalid's auc: 0.809844\tvalid's binary_logloss: 1.07165\n",
            "[1900]\tvalid's auc: 0.80977\tvalid's binary_logloss: 1.0722\n",
            "[2000]\tvalid's auc: 0.809086\tvalid's binary_logloss: 1.07254\n",
            "[2100]\tvalid's auc: 0.809156\tvalid's binary_logloss: 1.07157\n",
            "[2200]\tvalid's auc: 0.809752\tvalid's binary_logloss: 1.07137\n",
            "[2300]\tvalid's auc: 0.809611\tvalid's binary_logloss: 1.07578\n",
            "[2400]\tvalid's auc: 0.809215\tvalid's binary_logloss: 1.07623\n",
            "[2500]\tvalid's auc: 0.809359\tvalid's binary_logloss: 1.07647\n",
            "Average validation score:  0.44435018683121663\n"
          ]
        }
      ]
    },
    {
      "cell_type": "code",
      "source": [
        "res['valid'].keys()"
      ],
      "metadata": {
        "colab": {
          "base_uri": "https://localhost:8080/"
        },
        "id": "U-2TVG78sCRK",
        "outputId": "ecaa9168-a370-438e-cdb3-a7a098a59400"
      },
      "execution_count": null,
      "outputs": [
        {
          "output_type": "execute_result",
          "data": {
            "text/plain": [
              "dict_keys(['auc', 'binary_logloss'])"
            ]
          },
          "metadata": {},
          "execution_count": 41
        }
      ]
    }
  ]
}
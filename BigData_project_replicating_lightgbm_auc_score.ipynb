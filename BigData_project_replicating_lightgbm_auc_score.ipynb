{
  "nbformat": 4,
  "nbformat_minor": 0,
  "metadata": {
    "colab": {
      "name": "BigData_project_replicating_lightgbm_auc_score.ipynb",
      "provenance": []
    },
    "kernelspec": {
      "name": "python3",
      "display_name": "Python 3"
    },
    "language_info": {
      "name": "python"
    }
  },
  "cells": [
    {
      "cell_type": "markdown",
      "metadata": {
        "id": "kIads--2s_sg"
      },
      "source": [
        "# Imports, Definitions & Functions"
      ]
    },
    {
      "cell_type": "code",
      "execution_count": null,
      "metadata": {
        "id": "_Y7uqW90tAuf"
      },
      "outputs": [],
      "source": [
        "\n",
        "import pandas as pd \n",
        "import numpy as np\n",
        "import matplotlib.pyplot as plt\n",
        "from matplotlib.colors import rgb2hex\n",
        "import seaborn as sns\n",
        "import os\n",
        "import sys\n",
        "\n",
        "\n",
        "from scipy.signal import find_peaks\n",
        "from scipy.signal import savgol_filter\n",
        "from sklearn.feature_selection import mutual_info_classif \n",
        "\n",
        "from sklearn.model_selection import StratifiedKFold, train_test_split\n",
        "import lightgbm as lgb "
      ]
    },
    {
      "cell_type": "code",
      "source": [
        "\n",
        "def time2timestamp(days): \n",
        "  ''' \n",
        "  takes in a numpy array of representing calendar days of when each sample were collected. \n",
        "  return a numpy array of timestamp (integers) to be used an ordinal feature\n",
        "  ''' \n",
        "  counter = 0 \n",
        "  timestamp = np.zeros_like(days, dtype = int) \n",
        "  for i in range(1, len(timestamp)) : \n",
        "    if days[i] != days[i-1]: \n",
        "      counter += 1 \n",
        "    timestamp[i] = counter\n",
        "  return timestamp \n",
        "\n",
        "\n",
        "def get_periodic_stats(df):\n",
        "  '''\n",
        "  returns 2 Data Frame that has monthly and daily statistics about features \n",
        "  derived and added with the feature's name + '_monthly' or '_daily', respectively.\n",
        "  '''\n",
        "  month_groubed = df.groupby('month').sum()\n",
        "  day_groubed = df.groupby('day').sum()\n",
        "  daily_new_features = day_groubed.transpose()[df.day].transpose().drop(columns = ['month'], axis = 1).astype(dtype = np.int32).rename(columns = lambda x : x + '_daily')\n",
        "  monthly_new_features = month_groubed.transpose()[df.month].transpose().drop(columns = ['day'], axis = 1).astype(dtype = np.int32).rename(columns = lambda x : x + '_monthly')\n",
        "  return monthly_new_features.reset_index(drop = True), daily_new_features.reset_index(drop = True)\n",
        "\n",
        "\n",
        "\n",
        "def get_daily_stats(df, groupby_col):\n",
        "  day_grouped = df.groupby(groupby_col).sum() \n",
        "  daily_new_features = day_grouped.drop(columns = ['month'], axis = 1).astype(dtype = np.float32).rename(columns = lambda x : x + '_daily')\n",
        "  return daily_new_features\n",
        "\n",
        "def get_monthly_stats(df, groupby_col):\n",
        "\n",
        "  month_groubed = df.groupby(groupby_col).sum()\n",
        "  monthly_new_features = month_groubed.transpose()[df.month].transpose().drop(columns = ['day'], axis = 1).astype(dtype = np.int32).rename(columns = lambda x : x + '_monthly')\n",
        "  return monthly_new_features.reset_index(drop = True) \n",
        "\n",
        "\n",
        "def time2timestamp(df):\n",
        "  '''\n",
        "  drops 'test_date' and creates 'month' and 'day' as two separated features\n",
        "  to separate statstics related per month vs per day. \n",
        "  '''\n",
        "  df = df.copy() \n",
        "\n",
        "  df['test_date'] = pd.to_datetime(df.test_date, infer_datetime_format = True) \n",
        "  df['month'] = df.test_date.dt.month \n",
        "  df['day'] = df.test_date.dt.day\n",
        "  # df.drop(columns = ['test_date'], inplace = True) \n",
        "  return df \n",
        "\n",
        "def binarize_features(df):\n",
        "  df = df.copy() \n",
        "\n",
        "  def is_pos(v):\n",
        "    if isinstance(v, str) :\n",
        "      return v.lower() in ['yes', 'positive', 'male', '1']\n",
        "    else: \n",
        "      if v : return True \n",
        "      else : return False \n",
        "\n",
        "  results = df.corona_result.values\n",
        "  age_above_60 = df.age_60_and_above.values \n",
        "  gender = df.gender.values \n",
        "\n",
        "  binary_age = [1 if is_pos(age_above_60[i]) else 0 for i in range(len(df)) ]\n",
        "  binary_results = [1 if is_pos(results[i]) else 0 for i in range(len(df)) ]\n",
        "  binary_gender = [1 if is_pos(gender[i]) else 0 for i in range(len(df)) ]\n",
        "  df['corona_result'] = np.array(binary_results, dtype = np.int32)  \n",
        "  df['age_60_and_above'] = np.array(binary_age, dtype = np.int32)\n",
        "  df['gender'] = np.array(binary_gender, dtype = np.int32) \n",
        "\n",
        "  symptom_features = ['cough', 'fever', 'sore_throat', 'shortness_of_breath', 'head_ache', 'corona_result']\n",
        "  for f in symptom_features : \n",
        "    values = df[f].values\n",
        "    df[f] = [1 if is_pos(values[i]) else 0 for i in range(len(df))]\n",
        "\n",
        "  df = df.assign(test_indication = lambda x : x.test_indication == 'Contact with confirmed')\n",
        "  # may also drop 'gender', 'age_60_and_above' because they have missing values, \n",
        "  # but will keep them for now since they will be part of the anlaysis\n",
        "  # df.drop(columns = ['test_indication'], axis = 1, inplace = True) \n",
        "  return df \n",
        "\n",
        "\n",
        "def check(df):\n",
        "  check_missing(df)\n",
        "  check_duplicates(df) \n",
        "\n",
        "\n",
        "def check_missing(df):\n",
        "  # Columns with missing values\n",
        "  missing_cols = df.columns[df.isnull().any()]\n",
        "  # Rows with missing values\n",
        "  missing_rows = df.index[df.isnull().any(axis=1)]\n",
        "\n",
        "  #if no missing values\n",
        "  if len(missing_rows) == 0 and len(missing_cols) == 0: \n",
        "      print('No missing values')\n",
        "  # if there are missing values\n",
        "  else: \n",
        "      print('Number of rows that have missing values', len(missing_rows))\n",
        "      print('Number of columns that have missing values', len(missing_cols))\n",
        "\n",
        "def check_duplicates(df) : \n",
        "  # Duplicate rows\n",
        "  duplicate_rows = df[df.duplicated()]\n",
        "\n",
        "  # if no duplicate rows\n",
        "  if len(duplicate_rows) == 0:\n",
        "      print('No duplicate rows')\n",
        "  # if there are duplicate rows\n",
        "  else:\n",
        "      print('Number of duplicate rows', len(duplicate_rows))\n"
      ],
      "metadata": {
        "id": "-IKrvdP_dxfu"
      },
      "execution_count": null,
      "outputs": []
    },
    {
      "cell_type": "code",
      "execution_count": null,
      "metadata": {
        "id": "2Du6AHwxCpez"
      },
      "outputs": [],
      "source": [
        "%%capture \n",
        "\n",
        "def download_data():\n",
        "  # download the data file \n",
        "  !wget --load-cookies /tmp/cookies.txt \"https://docs.google.com/uc?export=download&confirm=$(wget --quiet --save-cookies /tmp/cookies.txt --keep-session-cookies \\\n",
        "    --no-check-certificate 'https://docs.google.com/uc?export=download&id=1u78Z2-WhhyHzoHf6OtBnxWETnjBw7pg8' \\\n",
        "    -O- | sed -rn 's/.*confirm=([0-9A-Za-z_]+).*/\\1\\n/p')&id=1u78Z2-WhhyHzoHf6OtBnxWETnjBw7pg8\" -O corona_tested_individuals_ver_0083.english.csv && rm -rf /tmp/cookies.txt\n",
        "  !wget --load-cookies /tmp/cookies.txt \"https://docs.google.com/uc?export=download&confirm=$(wget --quiet --save-cookies /tmp/cookies.txt --keep-session-cookies \\\n",
        "    --no-check-certificate 'https://docs.google.com/uc?export=download&id=1u8R1viz0ty6zR2CuVghRPQrv5XwDNOpk' \\\n",
        "    -O- | sed -rn 's/.*confirm=([0-9A-Za-z_]+).*/\\1\\n/p')&id=1u8R1viz0ty6zR2CuVghRPQrv5XwDNOpk\" -O corona_tested_individuals_ver_006.english.csv && rm -rf /tmp/cookies.txt\n",
        "\n",
        "\n",
        "# download the data file\n",
        "download_data()"
      ]
    },
    {
      "cell_type": "markdown",
      "source": [
        "# Read and merge data"
      ],
      "metadata": {
        "id": "Rb66kJkn6r3v"
      }
    },
    {
      "cell_type": "code",
      "source": [
        "df = pd.read_csv('corona_tested_individuals_ver_006.english.csv')\n",
        "df2 = pd.read_csv('isolatedTable.csv')\n",
        "\n",
        "df = time2timestamp(df) \n",
        "df = binarize_features(df) \n",
        "d_df = get_daily_stats(df, groupby_col = 'test_date')  \n",
        "\n",
        "df['test_date'] = pd.to_datetime(df.test_date, infer_datetime_format = True) \n",
        "df2['date'] = pd.to_datetime(df2.date, infer_datetime_format = True) \n",
        "df2.rename(columns = {'date': 'test_date'}, inplace = True) \n",
        "\n",
        "df3 = pd.merge(df, df2, how = 'inner', on = 'test_date')\n",
        "df4 = pd.merge(df3, d_df, how = 'inner', on = 'test_date')\n",
        "print(df4.test_date.describe())\n",
        "df4.drop(columns = ['day_daily', 'test_date' ], inplace = True) \n",
        "\n",
        "check_missing(df4) \n",
        "df4.shape"
      ],
      "metadata": {
        "colab": {
          "base_uri": "https://localhost:8080/"
        },
        "id": "WmTLTFLt6t_V",
        "outputId": "aa702705-f896-451f-a7c9-ed8ebf6cc3c6"
      },
      "execution_count": null,
      "outputs": [
        {
          "output_type": "stream",
          "name": "stderr",
          "text": [
            "/usr/local/lib/python3.7/dist-packages/IPython/core/interactiveshell.py:2882: DtypeWarning: Columns (1,2,3,4,5) have mixed types.Specify dtype option on import or set low_memory=False.\n",
            "  exec(code_obj, self.user_global_ns, self.user_ns)\n"
          ]
        },
        {
          "output_type": "stream",
          "name": "stdout",
          "text": [
            "count                  135060\n",
            "unique                     32\n",
            "top       2020-04-01 00:00:00\n",
            "freq                     8654\n",
            "first     2020-03-11 00:00:00\n",
            "last      2020-04-11 00:00:00\n",
            "Name: test_date, dtype: object\n",
            "No missing values\n"
          ]
        },
        {
          "output_type": "stream",
          "name": "stderr",
          "text": [
            "/usr/local/lib/python3.7/dist-packages/ipykernel_launcher.py:14: FutureWarning: Treating datetime data as categorical rather than numeric in `.describe` is deprecated and will be removed in a future version of pandas. Specify `datetime_is_numeric=True` to silence this warning and adopt the future behavior now.\n",
            "  \n"
          ]
        },
        {
          "output_type": "execute_result",
          "data": {
            "text/plain": [
              "(135060, 24)"
            ]
          },
          "metadata": {},
          "execution_count": 5
        }
      ]
    },
    {
      "cell_type": "markdown",
      "source": [
        "# EDA"
      ],
      "metadata": {
        "id": "3Bm7EyZJqvRw"
      }
    },
    {
      "cell_type": "code",
      "source": [
        "lightGBM = df\n",
        "\n",
        "y_features = 'corona_result'\n",
        "x_features = [col for col in lightGBM.columns if col != y_features]\n",
        "old_x_features = ['cough','fever','sore_throat','shortness_of_breath','head_ache','age_60_and_above','gender','test_indication']\n",
        "x_features.remove('month')\n",
        "x_features.remove('day')\n",
        "train_df = lightGBM.query(\"month == 3 and day > 21\")\n",
        "test_df = lightGBM.query(\"month == 4 and day < 8\")\n",
        "x_train, y_train = train_df[x_features].to_numpy(dtype = np.float32), train_df[y_features].to_numpy(dtype = np.float32)\n",
        "x_test, y_test = test_df[x_features].to_numpy(dtype = np.float32), test_df[y_features].to_numpy(dtype = np.float32)\n",
        "x_train.shape, y_train.shape, x_test.shape, y_test.shape"
      ],
      "metadata": {
        "colab": {
          "base_uri": "https://localhost:8080/"
        },
        "id": "DB4z4tpqD14Z",
        "outputId": "4966c173-fa01-4bc2-f1c4-0d6e79be0f62"
      },
      "execution_count": null,
      "outputs": [
        {
          "output_type": "execute_result",
          "data": {
            "text/plain": [
              "((53843, 9), (53843,), (48874, 9), (48874,))"
            ]
          },
          "metadata": {},
          "execution_count": 11
        }
      ]
    },
    {
      "cell_type": "code",
      "source": [
        "x_features"
      ],
      "metadata": {
        "colab": {
          "base_uri": "https://localhost:8080/"
        },
        "id": "mh6WNMOrD7oo",
        "outputId": "9988418b-c1fc-4ee5-8c99-dcdc52d06d8d"
      },
      "execution_count": null,
      "outputs": [
        {
          "output_type": "execute_result",
          "data": {
            "text/plain": [
              "['test_date',\n",
              " 'cough',\n",
              " 'fever',\n",
              " 'sore_throat',\n",
              " 'shortness_of_breath',\n",
              " 'head_ache',\n",
              " 'age_60_and_above',\n",
              " 'gender',\n",
              " 'test_indication']"
            ]
          },
          "metadata": {},
          "execution_count": 12
        }
      ]
    },
    {
      "cell_type": "code",
      "source": [
        "\n",
        "params = {\n",
        "'num_leaves': 20,\n",
        "'min_data_in_leaf': 4,\n",
        "'feature_fraction': 0.2,\n",
        "'bagging_fraction': 0.8,\n",
        "'bagging_freq': 5,\n",
        "'learning_rate': 0.05,\n",
        "'verbose': 1\n",
        "}\n",
        "\n",
        "train_ds = lgb.Dataset(x_train, y_train) \n",
        "val_ds = lgb.Dataset(x_test, y_test)\n",
        "res = {} \n",
        "gbm = lgb.train(params, train_ds, num_boost_round = 603,\n",
        "              valid_sets = [val_ds], valid_names = ['valid'],\n",
        "              evals_result = res, verbose_eval = 1) "
      ],
      "metadata": {
        "id": "xPXO18g2qxC7"
      },
      "execution_count": null,
      "outputs": []
    },
    {
      "cell_type": "code",
      "source": [
        "res.keys()"
      ],
      "metadata": {
        "colab": {
          "base_uri": "https://localhost:8080/"
        },
        "id": "wphe0InqF5SK",
        "outputId": "0551d2b0-92bb-4b17-c1f2-96e310151de6"
      },
      "execution_count": null,
      "outputs": [
        {
          "output_type": "execute_result",
          "data": {
            "text/plain": [
              "dict_keys([])"
            ]
          },
          "metadata": {},
          "execution_count": 26
        }
      ]
    },
    {
      "cell_type": "markdown",
      "source": [
        "# Training 2"
      ],
      "metadata": {
        "id": "Yp3sb2uyDJZV"
      }
    },
    {
      "cell_type": "code",
      "source": [
        "import numpy as np\n",
        "import matplotlib.pyplot as plt\n",
        "from itertools import cycle\n",
        "\n",
        "from sklearn import svm, datasets\n",
        "from sklearn.metrics import roc_curve, auc\n",
        "from sklearn.model_selection import train_test_split\n",
        "from sklearn.preprocessing import label_binarize\n",
        "from sklearn.multiclass import OneVsRestClassifier\n",
        "from sklearn.metrics import roc_auc_score\n",
        "\n",
        "# shuffle and split training and test sets\n",
        "# X_train, X_test, y_train, y_test = train_test_split(X, y, test_size=0.5, random_state=0)\n",
        "\n",
        "# Learn to predict each class against the other\n",
        "classifier = OneVsRestClassifier(\n",
        "    svm.SVC(kernel=\"linear\", probability=True, random_state=10)\n",
        ")\n",
        "y_score = classifier.fit(train_x, train_y).decision_function(test_x)\n",
        "y_score = y_score[..., np.newaxis]\n",
        "# Compute ROC curve and ROC area for each class\n",
        "fpr = dict()\n",
        "tpr = dict()\n",
        "roc_auc = dict()\n",
        "n_classes = 1\n",
        "for i in range(n_classes):\n",
        "    fpr[i], tpr[i], _ = roc_curve(test_y[:, i], y_score[:, i])\n",
        "    roc_auc[i] = auc(fpr[i], tpr[i])\n",
        "\n",
        "# Compute micro-average ROC curve and ROC area\n",
        "fpr[\"micro\"], tpr[\"micro\"], _ = roc_curve(test_y.ravel(), y_score.ravel())\n",
        "roc_auc[\"micro\"] = auc(fpr[\"micro\"], tpr[\"micro\"])"
      ],
      "metadata": {
        "colab": {
          "base_uri": "https://localhost:8080/"
        },
        "id": "siWPnNB-CV8d",
        "outputId": "8e51ff6e-d070-46a7-cac7-358676bdb791"
      },
      "execution_count": null,
      "outputs": [
        {
          "output_type": "stream",
          "name": "stderr",
          "text": [
            "/usr/local/lib/python3.7/dist-packages/sklearn/multiclass.py:80: UserWarning: Label not 0 is present in all training examples.\n",
            "  \"Label %s is present in all training examples.\" % str(classes[c])\n",
            "/usr/local/lib/python3.7/dist-packages/sklearn/metrics/_ranking.py:1001: UndefinedMetricWarning: No positive samples in y_true, true positive value should be meaningless\n",
            "  UndefinedMetricWarning,\n",
            "/usr/local/lib/python3.7/dist-packages/sklearn/metrics/_ranking.py:1001: UndefinedMetricWarning: No positive samples in y_true, true positive value should be meaningless\n",
            "  UndefinedMetricWarning,\n"
          ]
        }
      ]
    },
    {
      "cell_type": "code",
      "source": [
        "fpr.keys()"
      ],
      "metadata": {
        "colab": {
          "base_uri": "https://localhost:8080/"
        },
        "id": "g5EajjFcErWX",
        "outputId": "a2a52818-ff07-4efc-81d0-8521c65d360b"
      },
      "execution_count": null,
      "outputs": [
        {
          "output_type": "execute_result",
          "data": {
            "text/plain": [
              "dict_keys([0, 'micro'])"
            ]
          },
          "metadata": {},
          "execution_count": 82
        }
      ]
    },
    {
      "cell_type": "code",
      "source": [
        "plt.figure()\n",
        "lw = 2\n",
        "plt.plot(\n",
        "    fpr[0],\n",
        "    tpr[0],\n",
        "    color=\"darkorange\",\n",
        "    lw=lw,\n",
        "    label=\"ROC curve (area = %0.2f)\" % roc_auc[0],\n",
        ")\n",
        "plt.plot([0, 1], [0, 1], color=\"navy\", lw=lw, linestyle=\"--\")\n",
        "plt.xlim([0.0, 1.0])\n",
        "plt.ylim([0.0, 1.05])\n",
        "plt.xlabel(\"False Positive Rate\")\n",
        "plt.ylabel(\"True Positive Rate\")\n",
        "plt.title(\"Receiver operating characteristic example\")\n",
        "plt.legend(loc=\"lower right\")\n",
        "plt.show()"
      ],
      "metadata": {
        "colab": {
          "base_uri": "https://localhost:8080/",
          "height": 294
        },
        "id": "pRQ7Jp7oDxXr",
        "outputId": "b6877b5c-ac09-4b5a-f5c7-e234f918784a"
      },
      "execution_count": null,
      "outputs": [
        {
          "output_type": "display_data",
          "data": {
            "text/plain": [
              "<Figure size 432x288 with 1 Axes>"
            ],
            "image/png": "[encoded data removed]"
          },
          "metadata": {
            "needs_background": "light"
          }
        }
      ]
    },
    {
      "cell_type": "code",
      "source": [
        ""
      ],
      "metadata": {
        "id": "G023j8jsE_We"
      },
      "execution_count": null,
      "outputs": []
    }
  ]
}